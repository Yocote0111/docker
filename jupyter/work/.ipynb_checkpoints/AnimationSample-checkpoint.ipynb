{
 "cells": [
  {
   "cell_type": "code",
   "execution_count": 88,
   "metadata": {},
   "outputs": [],
   "source": [
    "import matplotlib.pyplot as plt\n",
    "import matplotlib.animation as animation\n",
    "import matplotlib.patches as patches\n",
    "import matplotlib.transforms as transforms\n",
    "import numpy as np\n",
    "from IPython.display import HTML \n",
    "%matplotlib inline"
   ]
  },
  {
   "cell_type": "code",
   "execution_count": 218,
   "metadata": {},
   "outputs": [
    {
     "data": {
      "text/plain": [
       "[0, -2]"
      ]
     },
     "execution_count": 218,
     "metadata": {},
     "output_type": "execute_result"
    }
   ],
   "source": [
    "A = np.matrix([[0, 1],[-1,0]])\n",
    "np.dot(A, [2,0]).tolist()[0]"
   ]
  },
  {
   "cell_type": "code",
   "execution_count": 219,
   "metadata": {},
   "outputs": [],
   "source": [
    "# SI Unit [m]\n",
    "vehicle = {'length': 4.5, 'width': 1.68, 'height': 2.2}\n",
    "lane = {'width': 3.5}\n",
    "road = {'length': 100, 'laneNumber': 2}\n",
    "m = 2 # margin\n",
    "p0 = np.array([0, 0])\n",
    "v0 = np.array([5, 0])\n",
    "origin = np.array([m + 2, m + lane['width']*3/2])\n",
    "dt = 1\n",
    "size = np.array([vehicle['length'],vehicle['width']])"
   ]
  },
  {
   "cell_type": "code",
   "execution_count": 211,
   "metadata": {},
   "outputs": [],
   "source": [
    "def init():\n",
    "    xy = origin + np.dot(A, p0)\n",
    "    print(xy[0][0])\n",
    "    v = {\n",
    "#         'feature': patches.Rectangle(xy=list(xy - size/2), \n",
    "#                                      width=vehicle['length'], height=vehicle['width'], \n",
    "#                                      fill=False, edgecolor='red'),\n",
    "#         'label': plt.text(origin[0], origin[1], 'V1', ha='center', va='center'),\n",
    "        'p': p0,\n",
    "        'v': v0\n",
    "    }\n",
    "#     ax.add_patch(v['feature'])\n",
    "    ax.add_patch(patches.Rectangle(xy=list(xy - size/2),\n",
    "                                   width=vehicle['length'], height=vehicle['width'], \n",
    "                                   fill=False, edgecolor='red'))\n",
    "    ax.text(origin[0], origin[1], 'V1', ha='center', va='center')\n",
    "\n",
    "def animate(i):\n",
    "    a = 0\n",
    "    v['v'] += a*dt\n",
    "    v['p'] += v['v']*dt\n",
    "    xy = origin + np.dot(A, v['p'])\n",
    "#     v['feature'].set_xy(list(xy- size/2))\n",
    "#     v['label'].set_x(xy[0])\n",
    "#     v['label'].set_y(xy[1])\n",
    "    print(v['p'], v['v'], xy)\n",
    "    ax.add_patch(patches.Rectangle(xy=list(xy - size/2),\n",
    "                                   width=vehicle['length'], height=vehicle['width'], \n",
    "                                   fill=False, edgecolor='red'))\n",
    "    ax.text(origin[0], origin[1], 'V1', ha='center', va='center')\n",
    "    # ax.add_patch(v['feature'])"
   ]
  },
  {
   "cell_type": "code",
   "execution_count": 212,
   "metadata": {},
   "outputs": [
    {
     "name": "stdout",
     "output_type": "stream",
     "text": [
      "[[4.   7.25]]\n"
     ]
    },
    {
     "ename": "IndexError",
     "evalue": "list index out of range",
     "output_type": "error",
     "traceback": [
      "\u001b[0;31m---------------------------------------------------------------------------\u001b[0m",
      "\u001b[0;31mIndexError\u001b[0m                                Traceback (most recent call last)",
      "\u001b[0;32m<ipython-input-212-29a4677bbe6b>\u001b[0m in \u001b[0;36m<module>\u001b[0;34m\u001b[0m\n\u001b[1;32m     14\u001b[0m \u001b[0;31m# ax.set_ylim(0, road['laneNumber']*lane['width']+2*m)\u001b[0m\u001b[0;34m\u001b[0m\u001b[0;34m\u001b[0m\u001b[0;34m\u001b[0m\u001b[0m\n\u001b[1;32m     15\u001b[0m \u001b[0;34m\u001b[0m\u001b[0m\n\u001b[0;32m---> 16\u001b[0;31m \u001b[0minit\u001b[0m\u001b[0;34m(\u001b[0m\u001b[0;34m)\u001b[0m\u001b[0;34m\u001b[0m\u001b[0;34m\u001b[0m\u001b[0m\n\u001b[0m\u001b[1;32m     17\u001b[0m anim = animation.FuncAnimation(fig, animate,\n\u001b[1;32m     18\u001b[0m                                interval=200, frames=20, repeat=False)\n",
      "\u001b[0;32m<ipython-input-211-8cd6d4007727>\u001b[0m in \u001b[0;36minit\u001b[0;34m()\u001b[0m\n\u001b[1;32m     13\u001b[0m     ax.add_patch(patches.Rectangle(xy=list(xy - size/2),\n\u001b[1;32m     14\u001b[0m                                    \u001b[0mwidth\u001b[0m\u001b[0;34m=\u001b[0m\u001b[0mvehicle\u001b[0m\u001b[0;34m[\u001b[0m\u001b[0;34m'length'\u001b[0m\u001b[0;34m]\u001b[0m\u001b[0;34m,\u001b[0m \u001b[0mheight\u001b[0m\u001b[0;34m=\u001b[0m\u001b[0mvehicle\u001b[0m\u001b[0;34m[\u001b[0m\u001b[0;34m'width'\u001b[0m\u001b[0;34m]\u001b[0m\u001b[0;34m,\u001b[0m\u001b[0;34m\u001b[0m\u001b[0;34m\u001b[0m\u001b[0m\n\u001b[0;32m---> 15\u001b[0;31m                                    fill=False, edgecolor='red'))\n\u001b[0m\u001b[1;32m     16\u001b[0m     \u001b[0max\u001b[0m\u001b[0;34m.\u001b[0m\u001b[0mtext\u001b[0m\u001b[0;34m(\u001b[0m\u001b[0morigin\u001b[0m\u001b[0;34m[\u001b[0m\u001b[0;36m0\u001b[0m\u001b[0;34m]\u001b[0m\u001b[0;34m,\u001b[0m \u001b[0morigin\u001b[0m\u001b[0;34m[\u001b[0m\u001b[0;36m1\u001b[0m\u001b[0;34m]\u001b[0m\u001b[0;34m,\u001b[0m \u001b[0;34m'V1'\u001b[0m\u001b[0;34m,\u001b[0m \u001b[0mha\u001b[0m\u001b[0;34m=\u001b[0m\u001b[0;34m'center'\u001b[0m\u001b[0;34m,\u001b[0m \u001b[0mva\u001b[0m\u001b[0;34m=\u001b[0m\u001b[0;34m'center'\u001b[0m\u001b[0;34m)\u001b[0m\u001b[0;34m\u001b[0m\u001b[0;34m\u001b[0m\u001b[0m\n\u001b[1;32m     17\u001b[0m \u001b[0;34m\u001b[0m\u001b[0m\n",
      "\u001b[0;32m/opt/conda/lib/python3.7/site-packages/matplotlib/patches.py\u001b[0m in \u001b[0;36m__init__\u001b[0;34m(self, xy, width, height, angle, **kwargs)\u001b[0m\n\u001b[1;32m    708\u001b[0m \u001b[0;34m\u001b[0m\u001b[0m\n\u001b[1;32m    709\u001b[0m         \u001b[0mself\u001b[0m\u001b[0;34m.\u001b[0m\u001b[0m_x0\u001b[0m \u001b[0;34m=\u001b[0m \u001b[0mxy\u001b[0m\u001b[0;34m[\u001b[0m\u001b[0;36m0\u001b[0m\u001b[0;34m]\u001b[0m\u001b[0;34m\u001b[0m\u001b[0;34m\u001b[0m\u001b[0m\n\u001b[0;32m--> 710\u001b[0;31m         \u001b[0mself\u001b[0m\u001b[0;34m.\u001b[0m\u001b[0m_y0\u001b[0m \u001b[0;34m=\u001b[0m \u001b[0mxy\u001b[0m\u001b[0;34m[\u001b[0m\u001b[0;36m1\u001b[0m\u001b[0;34m]\u001b[0m\u001b[0;34m\u001b[0m\u001b[0;34m\u001b[0m\u001b[0m\n\u001b[0m\u001b[1;32m    711\u001b[0m \u001b[0;34m\u001b[0m\u001b[0m\n\u001b[1;32m    712\u001b[0m         \u001b[0mself\u001b[0m\u001b[0;34m.\u001b[0m\u001b[0m_width\u001b[0m \u001b[0;34m=\u001b[0m \u001b[0mwidth\u001b[0m\u001b[0;34m\u001b[0m\u001b[0;34m\u001b[0m\u001b[0m\n",
      "\u001b[0;31mIndexError\u001b[0m: list index out of range"
     ]
    },
    {
     "data": {
      "image/png": "[encoded data removed]",
      "text/plain": [
       "<Figure size 720x108 with 1 Axes>"
      ]
     },
     "metadata": {},
     "output_type": "display_data"
    }
   ],
   "source": [
    "fig = plt.figure(figsize=(10, 1.5))\n",
    "ax = plt.gca()\n",
    "\n",
    "# Lanes\n",
    "for i in range(road['laneNumber']+1):\n",
    "    plt.plot([m, m+road['length']],\n",
    "             [m+lane['width']*i,m+lane['width']*i], \n",
    "             color='black', linewidth=2)\n",
    "\n",
    "# Ticks\n",
    "plt.tick_params(axis='both', which='both', bottom=False, top=False,\n",
    "               labelbottom=False, right=False, left=False, labelleft=False)\n",
    "\n",
    "# ax.set_xlim(-m, road['length']+3*m)\n",
    "# ax.set_ylim(0, road['laneNumber']*lane['width']+2*m)\n",
    "\n",
    "art, = ax.plot([],[])\n",
    "xy = origin + np.dot(A, p0)\n",
    "p = p0\n",
    "\n",
    "def update(i):\n",
    "    \n",
    "    art.set_data()\n",
    "    \n",
    "\n",
    "init()\n",
    "anim = animation.FuncAnimation(fig, animate,\n",
    "                               interval=200, frames=20, repeat=False)\n",
    "\n",
    "HTML(anim.to_jshtml())"
   ]
  },
  {
   "cell_type": "code",
   "execution_count": 6,
   "metadata": {},
   "outputs": [],
   "source": []
  },
  {
   "cell_type": "code",
   "execution_count": 140,
   "metadata": {},
   "outputs": [
    {
     "data": {
      "text/plain": [
       "array([2, 2])"
      ]
     },
     "execution_count": 140,
     "metadata": {},
     "output_type": "execute_result"
    }
   ],
   "source": [
    "p0+2"
   ]
  }
 ],
 "metadata": {
  "kernelspec": {
   "display_name": "Python 3",
   "language": "python",
   "name": "python3"
  },
  "language_info": {
   "codemirror_mode": {
    "name": "ipython",
    "version": 3
   },
   "file_extension": ".py",
   "mimetype": "text/x-python",
   "name": "python",
   "nbconvert_exporter": "python",
   "pygments_lexer": "ipython3",
   "version": "3.7.4"
  }
 },
 "nbformat": 4,
 "nbformat_minor": 4
}
