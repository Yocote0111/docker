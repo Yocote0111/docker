{
 "cells": [
  {
   "cell_type": "code",
   "execution_count": 104,
   "metadata": {},
   "outputs": [],
   "source": [
    "from sympy import *\n",
    "from IPython.display import Math"
   ]
  },
  {
   "cell_type": "code",
   "execution_count": 45,
   "metadata": {},
   "outputs": [
    {
     "data": {
      "text/latex": [
       "$\\displaystyle \\frac{1}{2}$"
      ],
      "text/plain": [
       "1/2"
      ]
     },
     "execution_count": 45,
     "metadata": {},
     "output_type": "execute_result"
    }
   ],
   "source": [
    "a = Rational(1,2)\n",
    "a = Rational(0.5)\n",
    "a"
   ]
  },
  {
   "cell_type": "code",
   "execution_count": 39,
   "metadata": {},
   "outputs": [
    {
     "data": {
      "text/latex": [
       "$\\displaystyle 0.5$"
      ],
      "text/plain": [
       "0.500000000000000"
      ]
     },
     "execution_count": 39,
     "metadata": {},
     "output_type": "execute_result"
    }
   ],
   "source": [
    "a = Float(1/2)\n",
    "a"
   ]
  },
  {
   "cell_type": "code",
   "execution_count": 51,
   "metadata": {},
   "outputs": [
    {
     "data": {
      "text/latex": [
       "$\\displaystyle \\sqrt{2}$"
      ],
      "text/plain": [
       "sqrt(2)"
      ]
     },
     "execution_count": 51,
     "metadata": {},
     "output_type": "execute_result"
    }
   ],
   "source": [
    "a = Integer(2)\n",
    "sqrt(2)"
   ]
  },
  {
   "cell_type": "code",
   "execution_count": 54,
   "metadata": {},
   "outputs": [
    {
     "data": {
      "text/latex": [
       "$\\displaystyle i$"
      ],
      "text/plain": [
       "I"
      ]
     },
     "execution_count": 54,
     "metadata": {},
     "output_type": "execute_result"
    }
   ],
   "source": [
    "sqrt(-1)"
   ]
  },
  {
   "cell_type": "code",
   "execution_count": 80,
   "metadata": {},
   "outputs": [
    {
     "data": {
      "text/latex": [
       "$\\displaystyle \\sqrt{\\pi} e^{\\frac{1}{2}}$"
      ],
      "text/plain": [
       "sqrt(pi)*exp(1/2)"
      ]
     },
     "execution_count": 80,
     "metadata": {},
     "output_type": "execute_result"
    }
   ],
   "source": [
    "sqrt(E*pi)"
   ]
  },
  {
   "cell_type": "code",
   "execution_count": 86,
   "metadata": {},
   "outputs": [
    {
     "data": {
      "text/latex": [
       "$\\displaystyle 2$"
      ],
      "text/plain": [
       "2"
      ]
     },
     "execution_count": 86,
     "metadata": {},
     "output_type": "execute_result"
    }
   ],
   "source": [
    "re(2)"
   ]
  },
  {
   "cell_type": "code",
   "execution_count": 65,
   "metadata": {},
   "outputs": [
    {
     "data": {
      "text/latex": [
       "$\\displaystyle x + x_{1} + x_{a_{1}}$"
      ],
      "text/plain": [
       "x + x_{1} + x_{a_{1}}"
      ]
     },
     "execution_count": 65,
     "metadata": {},
     "output_type": "execute_result"
    }
   ],
   "source": [
    "x = Symbol('x')\n",
    "x1 = Symbol('x_{1}')\n",
    "x_a1 = Symbol('x_{a_{1}}')\n",
    "x+x1+x_a1"
   ]
  },
  {
   "cell_type": "code",
   "execution_count": 66,
   "metadata": {},
   "outputs": [
    {
     "data": {
      "text/latex": [
       "$\\displaystyle \\left(x + y\\right)^{3}$"
      ],
      "text/plain": [
       "(x + y)**3"
      ]
     },
     "execution_count": 66,
     "metadata": {},
     "output_type": "execute_result"
    }
   ],
   "source": [
    "x = Symbol('x')\n",
    "y = Symbol('y')\n",
    "expr = (x+y)**3\n",
    "expr"
   ]
  },
  {
   "cell_type": "code",
   "execution_count": 67,
   "metadata": {},
   "outputs": [
    {
     "data": {
      "text/latex": [
       "$\\displaystyle x^{3} + 3 x^{2} y + 3 x y^{2} + y^{3}$"
      ],
      "text/plain": [
       "x**3 + 3*x**2*y + 3*x*y**2 + y**3"
      ]
     },
     "execution_count": 67,
     "metadata": {},
     "output_type": "execute_result"
    }
   ],
   "source": [
    "expr_ex = expand(expr)\n",
    "expr_ex"
   ]
  },
  {
   "cell_type": "code",
   "execution_count": 68,
   "metadata": {},
   "outputs": [
    {
     "data": {
      "text/latex": [
       "$\\displaystyle \\left(x + y\\right)^{3}$"
      ],
      "text/plain": [
       "(x + y)**3"
      ]
     },
     "execution_count": 68,
     "metadata": {},
     "output_type": "execute_result"
    }
   ],
   "source": [
    "expr_ft = factor(expr_ex)\n",
    "expr_ft"
   ]
  },
  {
   "cell_type": "code",
   "execution_count": 72,
   "metadata": {},
   "outputs": [
    {
     "data": {
      "text/plain": [
       "[-sqrt(4 - x), sqrt(4 - x)]"
      ]
     },
     "execution_count": 72,
     "metadata": {},
     "output_type": "execute_result"
    }
   ],
   "source": [
    "expr = x + y**2 - 4\n",
    "# solve(expr, x)[0]\n",
    "solve(expr, y)"
   ]
  },
  {
   "cell_type": "code",
   "execution_count": 74,
   "metadata": {},
   "outputs": [
    {
     "data": {
      "text/latex": [
       "$\\displaystyle 3 x^{2} + 4 x - 5$"
      ],
      "text/plain": [
       "3*x**2 + 4*x - 5"
      ]
     },
     "execution_count": 74,
     "metadata": {},
     "output_type": "execute_result"
    }
   ],
   "source": [
    "expr = x**3 + 2*x**2 - 5*x\n",
    "diff(expr)"
   ]
  },
  {
   "cell_type": "code",
   "execution_count": 90,
   "metadata": {},
   "outputs": [
    {
     "data": {
      "text/latex": [
       "$\\displaystyle \\frac{x^{4}}{4} + \\frac{2 x^{3}}{3} - \\frac{5 x^{2}}{2}$"
      ],
      "text/plain": [
       "x**4/4 + 2*x**3/3 - 5*x**2/2"
      ]
     },
     "execution_count": 90,
     "metadata": {},
     "output_type": "execute_result"
    }
   ],
   "source": [
    "integrate(expr)"
   ]
  },
  {
   "cell_type": "code",
   "execution_count": 66,
   "metadata": {},
   "outputs": [],
   "source": [
    "rho = Symbol('\\\\rho')\n",
    "\n",
    "# y(long)\n",
    "v1y = Symbol('v_{1y}')\n",
    "v2y = Symbol('v_{1y}')\n",
    "ay_max = Symbol('a_{y;max}^{Accel}')\n",
    "by_min = Symbol('a_{y;min}^{Brake}')\n",
    "by_max = Symbol('a_{y;max}^{Brake}')\n",
    "\n",
    "# x (lat)\n",
    "mu_y = Symbol('\\mu_y')\n",
    "v1x = Symbol('v_{1x}')\n",
    "v2x = Symbol('v_{2x}')\n",
    "ax_max = Symbol('a_{y;max}^{Accel}')\n",
    "bx_min = Symbol('a_{y;min}^{Brake}')\n"
   ]
  },
  {
   "cell_type": "code",
   "execution_count": 67,
   "metadata": {},
   "outputs": [
    {
     "data": {
      "text/latex": [
       "$\\displaystyle \\frac{\\rho^{2} a_{y;max}^{Accel}}{2} + \\rho v_{1y} + \\frac{\\left(\\rho a_{y;max}^{Accel} + v_{1y}\\right)^{2}}{2 a_{y;min}^{Brake}} - \\frac{v_{1y}^{2}}{2 a_{y;max}^{Brake}}$"
      ],
      "text/plain": [
       "\\rho**2*a_{y;max}^{Accel}/2 + \\rho*v_{1y} + (\\rho*a_{y;max}^{Accel} + v_{1y})**2/(2*a_{y;min}^{Brake}) - v_{1y}**2/(2*a_{y;max}^{Brake})"
      ]
     },
     "metadata": {},
     "output_type": "display_data"
    },
    {
     "data": {
      "text/latex": [
       "$\\displaystyle \\mu_y + \\rho v_{1x} - \\rho v_{2x} + \\frac{\\left(\\rho a_{y;max}^{Accel} + v_{1x}\\right)^{2}}{2 a_{y;min}^{Brake}} - \\frac{\\left(\\rho a_{y;max}^{Accel} + v_{2x}\\right)^{2}}{2 a_{y;min}^{Brake}}$"
      ],
      "text/plain": [
       "\\mu_y + \\rho*v_{1x} - \\rho*v_{2x} + (\\rho*a_{y;max}^{Accel} + v_{1x})**2/(2*a_{y;min}^{Brake}) - (\\rho*a_{y;max}^{Accel} + v_{2x})**2/(2*a_{y;min}^{Brake})"
      ]
     },
     "metadata": {},
     "output_type": "display_data"
    }
   ],
   "source": [
    "dy = (v1y*rho + ay_max*rho**2/2 + (v1y + rho*ay_max)**2/(2*b1y_min)) - ( v2y**2/(2*by_max)) \n",
    "dx = mu_y + (v1x*rho +  ax_max*rho**2/2 + (v1x + rho*ax_max)**2/(2*bx_min)) -  (v2x*rho +  ax_max*rho**2/2 + (v2x + rho*ax_max)**2/(2*bx_min)) \n",
    "\n",
    "display(dy)\n",
    "display(dx)"
   ]
  },
  {
   "cell_type": "code",
   "execution_count": 135,
   "metadata": {},
   "outputs": [
    {
     "data": {
      "text/latex": [
       "$\\displaystyle a_{1y}(t) = \\begin{cases} a_{y1;t_b} & (t \\in [t_b, t_b + \\rho]) \\\\ - a_1^{Brake} & (t \\in [t_b + \\rho, t_{stop}])\\end{cases} $"
      ],
      "text/plain": [
       "<IPython.core.display.Math object>"
      ]
     },
     "metadata": {},
     "output_type": "display_data"
    },
    {
     "data": {
      "text/latex": [
       "$\\displaystyle v_{1y}(t) = \\begin{cases} a_{y1;t_b} t + v_{y1;t_b} & (t \\in [t_b, t_b + \\rho]) \\\\ V_{1} - a_1^{Brake} t & (t \\in [t_b + \\rho, t_{stop}])\\end{cases} $"
      ],
      "text/plain": [
       "<IPython.core.display.Math object>"
      ]
     },
     "metadata": {},
     "output_type": "display_data"
    },
    {
     "data": {
      "text/latex": [
       "$\\displaystyle p_{1y}(t) = \\begin{cases} \\frac{a_{y1;t_b} t^{2}}{2} + p_{y1;t_b} + t v_{y1;t_b} & (t \\in [t_b, t_b + \\rho]) \\\\ P_{1} + V_{1} t - \\frac{a_1^{Brake} t^{2}}{2} & (t \\in [t_b + \\rho, t_{stop}])\\end{cases} $"
      ],
      "text/plain": [
       "<IPython.core.display.Math object>"
      ]
     },
     "metadata": {},
     "output_type": "display_data"
    }
   ],
   "source": [
    "var('t')\n",
    "rho = Symbol('\\\\rho')\n",
    "\n",
    "# t < t_b\n",
    "a1y_tb = Symbol('a_{y1;t_b}')\n",
    "v1y_tb = Symbol('v_{y1;t_b}')\n",
    "p1y_tb = Symbol('p_{y1;t_b}')\n",
    "\n",
    "c1 = 't \\in [t_b, t_b + \\\\rho]'\n",
    "a1y_t1 = a1y_tb\n",
    "v1y_t1 = v1y_tb + integrate(a1y_t1,t)\n",
    "p1y_t1 = p1y_tb + integrate(v1y_t1,t)\n",
    "\n",
    "# t_b < t < t_stop\n",
    "v1y_tr = v1y_t1.subs(t, rho)\n",
    "p1y_tr = p1y_t1.subs(t, rho)\n",
    "\n",
    "c2 = 't \\in [t_b + \\\\rho, t_{stop}]'\n",
    "b1y = Symbol('a_1^{Brake}')\n",
    "var('V1, P1')\n",
    "\n",
    "a1y_t2 = -b1y\n",
    "v1y_t2 = V1 + integrate(a1y_t2,t)\n",
    "p1y_t2 = P1 + integrate(v1y_t2,t)\n",
    "\n",
    "display(Math(r'a_{1y}(t) = \\begin{cases} %s & (%s) \\\\ %s & (%s)\\end{cases} '\n",
    "             % (latex(a1y_t1),c1,latex(a1y_t2),c2)))\n",
    "display(Math(r'v_{1y}(t) = \\begin{cases} %s & (%s) \\\\ %s & (%s)\\end{cases} '\n",
    "             % (latex(v1y_t1),c1,latex(v1y_t2),c2)))\n",
    "display(Math(r'p_{1y}(t) = \\begin{cases} %s & (%s) \\\\ %s & (%s)\\end{cases} ' \n",
    "             % (latex(p1y_t1),c1,latex(p1y_t2),c2)))\n"
   ]
  },
  {
   "cell_type": "code",
   "execution_count": 152,
   "metadata": {},
   "outputs": [
    {
     "data": {
      "text/latex": [
       "$\\displaystyle a_{1y}(t) = \\begin{cases} a_{y1;t_b} & (t \\in [t_b, t_b + \\rho]) \\\\ - a_1^{Brake} & (t \\in [t_b + \\rho, t_{stop}])\\end{cases} $"
      ],
      "text/plain": [
       "<IPython.core.display.Math object>"
      ]
     },
     "metadata": {},
     "output_type": "display_data"
    },
    {
     "data": {
      "text/latex": [
       "$\\displaystyle v_{1y}(t) = \\begin{cases} a_{y1;t_b} t + v_{y1;t_b} & (t \\in [t_b, t_b + \\rho]) \\\\ \\rho \\left(a_1^{Brake} + a_{y1;t_b}\\right) - a_1^{Brake} t + v_{y1;t_b} & (t \\in [t_b + \\rho, t_{stop}])\\end{cases} $"
      ],
      "text/plain": [
       "<IPython.core.display.Math object>"
      ]
     },
     "metadata": {},
     "output_type": "display_data"
    },
    {
     "data": {
      "text/latex": [
       "$\\displaystyle p_{1y}(t) = \\begin{cases} \\frac{a_{y1;t_b} t^{2}}{2} + p_{y1;t_b} + t v_{y1;t_b} & (t \\in [t_b, t_b + \\rho]) \\\\ \\rho^{2} \\left(- \\frac{a_1^{Brake}}{2} - \\frac{a_{y1;t_b}}{2}\\right) - \\frac{a_1^{Brake} t^{2}}{2} + p_{y1;t_b} + t \\left(\\rho a_1^{Brake} + \\rho a_{y1;t_b} + v_{y1;t_b}\\right) & (t \\in [t_b + \\rho, t_{stop}])\\end{cases} $"
      ],
      "text/plain": [
       "<IPython.core.display.Math object>"
      ]
     },
     "metadata": {},
     "output_type": "display_data"
    }
   ],
   "source": [
    "# V1 を求めて代入\n",
    "V1subs = solve(v1y_t2.subs(t,rho) - v1y_t1.subs(t,rho), V1)[0]\n",
    "v1y_t2_ = collect(simplify(v1y_t2.subs(V1, V1subs)),(t,rho))\n",
    "\n",
    "# P1 を求めて代入\n",
    "P1subs = solve(p1y_t2.subs(t,rho) - p1y_t1.subs(t,rho), P1)[0]\n",
    "p1y_t2_ = collect(simplify(p1y_t2.subs(P1, P1subs).subs(V1, V1subs)),(t,rho))\n",
    "\n",
    "display(\n",
    "    Math(r'a_{1y}(t) = \\begin{cases} %s & (%s) \\\\ %s & (%s)\\end{cases} '\n",
    "             % (latex(a1y_t1),c1,latex(a1y_t2),c2)),\n",
    "    Math(r'v_{1y}(t) = \\begin{cases} %s & (%s) \\\\ %s & (%s)\\end{cases} '\n",
    "             % (latex(v1y_t1),c1,latex(v1y_t2_),c2)),\n",
    "    Math(r'p_{1y}(t) = \\begin{cases} %s & (%s) \\\\ %s & (%s)\\end{cases} ' \n",
    "             % (latex(p1y_t1),c1,latex(p1y_t2_),c2))\n",
    ")\n"
   ]
  },
  {
   "cell_type": "code",
   "execution_count": 162,
   "metadata": {
    "scrolled": true
   },
   "outputs": [
    {
     "name": "stdout",
     "output_type": "stream",
     "text": [
      "p_{1y}(t) = \\begin{cases} \\frac{a_{y1;t_b} t^{2}}{2} + p_{y1;t_b} + t v_{y1;t_b} & (t \\in [t_b, t_b + \\rho]) \\\\ \\rho^{2} \\left(- \\frac{a_1^{Brake}}{2} - \\frac{a_{y1;t_b}}{2}\\right) - \\frac{a_1^{Brake} t^{2}}{2} + p_{y1;t_b} + t \\left(\\rho a_1^{Brake} + \\rho a_{y1;t_b} + v_{y1;t_b}\\right) & (t \\in [t_b + \\rho, t_{stop}])\\end{cases}\n"
     ]
    }
   ],
   "source": [
    "print(r'p_{1y}(t) = \\begin{cases} %s & (%s) \\\\ %s & (%s)\\end{cases}' % (latex(p1y_t1),c1,latex(p1y_t2_),c2))"
   ]
  },
  {
   "cell_type": "code",
   "execution_count": 163,
   "metadata": {},
   "outputs": [
    {
     "data": {
      "text/plain": [
       "'\\\\rho^{2} \\\\left(- \\\\frac{a_1^{Brake}}{2} - \\\\frac{a_{y1;t_b}}{2}\\\\right) - \\\\frac{a_1^{Brake} t^{2}}{2} + p_{y1;t_b} + t \\\\left(\\\\rho a_1^{Brake} + \\\\rho a_{y1;t_b} + v_{y1;t_b}\\\\right)'"
      ]
     },
     "execution_count": 163,
     "metadata": {},
     "output_type": "execute_result"
    }
   ],
   "source": [
    "latex(p1y_t2_)"
   ]
  },
  {
   "cell_type": "code",
   "execution_count": 146,
   "metadata": {},
   "outputs": [
    {
     "data": {
      "text/latex": [
       "$\\displaystyle \\rho^{2} \\left(\\frac{a_{y1;t_b}}{2} + \\frac{a_{y1;t_b}^{2}}{2 a_1^{Brake}}\\right) + p_{y1;t_b} + v_{y1;t_b} \\left(\\rho + \\frac{\\rho a_{y1;t_b}}{a_1^{Brake}}\\right) + \\frac{v_{y1;t_b}^{2}}{2 a_1^{Brake}}$"
      ],
      "text/plain": [
       "\\rho**2*(a_{y1;t_b}/2 + a_{y1;t_b}**2/(2*a_1^{Brake})) + p_{y1;t_b} + v_{y1;t_b}*(\\rho + \\rho*a_{y1;t_b}/a_1^{Brake}) + v_{y1;t_b}**2/(2*a_1^{Brake})"
      ]
     },
     "execution_count": 146,
     "metadata": {},
     "output_type": "execute_result"
    }
   ],
   "source": [
    "t_stop = solve(v1y_t2_, t)[0]\n",
    "\n",
    "p1y_ts = p1y_t2_.subs(t, t_stop)\n",
    "collect(p1y_ts.expand(), (v1y_tb, rho))"
   ]
  },
  {
   "cell_type": "code",
   "execution_count": 128,
   "metadata": {},
   "outputs": [
    {
     "data": {
      "text/latex": [
       "$\\displaystyle a_{2y}(t) = - a_2^{Brake}$"
      ],
      "text/plain": [
       "<IPython.core.display.Math object>"
      ]
     },
     "metadata": {},
     "output_type": "display_data"
    },
    {
     "data": {
      "text/latex": [
       "$\\displaystyle v_{2y}(t) = - a_2^{Brake} t + v_{y2;t_b}$"
      ],
      "text/plain": [
       "<IPython.core.display.Math object>"
      ]
     },
     "metadata": {},
     "output_type": "display_data"
    },
    {
     "data": {
      "text/latex": [
       "$\\displaystyle p_{2y}(t) = - \\frac{a_2^{Brake} t^{2}}{2} + p_{y2;t_b} + t v_{y2;t_b}$"
      ],
      "text/plain": [
       "<IPython.core.display.Math object>"
      ]
     },
     "metadata": {},
     "output_type": "display_data"
    }
   ],
   "source": [
    "b2y = Symbol('a_2^{Brake}')\n",
    "v2y_tb = Symbol('v_{y2;t_b}')\n",
    "p2y_tb = Symbol('p_{y2;t_b}')\n",
    "\n",
    "a2y_t = -b2y\n",
    "v2y_t = v2y_tb + integrate(a2y_t,t)\n",
    "p2y_t = p2y_tb + integrate(v2y_t,t)\n",
    "\n",
    "display(\n",
    "    Math(r'a_{2y}(t) = %s'\n",
    "             % latex(a2y_t)),\n",
    "    Math(r'v_{2y}(t) = %s'\n",
    "             % latex(v2y_t)),\n",
    "    Math(r'p_{2y}(t) = %s'\n",
    "             % latex(p2y_t)),\n",
    ")"
   ]
  },
  {
   "cell_type": "code",
   "execution_count": 132,
   "metadata": {},
   "outputs": [
    {
     "data": {
      "text/latex": [
       "$\\displaystyle d_y(t) = \\begin{cases} p_{y1;t_b} - p_{y2;t_b} + t^{2} \\left(\\frac{a_2^{Brake}}{2} + \\frac{a_{y1;t_b}}{2}\\right) + t \\left(v_{y1;t_b} - v_{y2;t_b}\\right) & (t \\in [t_b, t_b + \\rho]) \\\\ \\rho^{2} \\left(- \\frac{a_1^{Brake}}{2} - \\frac{a_{y1;t_b}}{2}\\right) + p_{y1;t_b} - p_{y2;t_b} + t^{2} \\left(- \\frac{a_1^{Brake}}{2} + \\frac{a_2^{Brake}}{2}\\right) + t \\left(\\rho a_1^{Brake} + \\rho a_{y1;t_b} + v_{y1;t_b} - v_{y2;t_b}\\right) & (t \\in [t_b + \\rho, t_e])\\end{cases} $"
      ],
      "text/plain": [
       "<IPython.core.display.Math object>"
      ]
     },
     "metadata": {},
     "output_type": "display_data"
    }
   ],
   "source": [
    "d_t1 = collect(p1y_t1 - p2y_t,t)\n",
    "d_t2 = collect(p1y_t2_ - p2y_t,t)\n",
    "display(\n",
    "    Math(r'd_y(t) = \\begin{cases} %s & (%s) \\\\ %s & (%s)\\end{cases} '\n",
    "             % (latex(d_t1),c1,latex(d_t2),c2)),\n",
    ")"
   ]
  },
  {
   "cell_type": "code",
   "execution_count": 113,
   "metadata": {},
   "outputs": [
    {
     "data": {
      "text/latex": [
       "$\\displaystyle \\begin{cases} 1 & (t \\lt t_b) \\\\ 2 & (t \\geq t_b)\\end{cases} $"
      ],
      "text/plain": [
       "<IPython.core.display.Math object>"
      ]
     },
     "metadata": {},
     "output_type": "display_data"
    }
   ],
   "source": [
    "c1 = 't \\lt t_b'\n",
    "c2 = 't \\geq t_b'\n",
    "display(Math(r'\\begin{cases} %s & (%s) \\\\ %s & (%s)\\end{cases} ' % (1,c1,2,c2)))"
   ]
  }
 ],
 "metadata": {
  "kernelspec": {
   "display_name": "Python 3",
   "language": "python",
   "name": "python3"
  },
  "language_info": {
   "codemirror_mode": {
    "name": "ipython",
    "version": 3
   },
   "file_extension": ".py",
   "mimetype": "text/x-python",
   "name": "python",
   "nbconvert_exporter": "python",
   "pygments_lexer": "ipython3",
   "version": "3.7.4"
  }
 },
 "nbformat": 4,
 "nbformat_minor": 4
}
